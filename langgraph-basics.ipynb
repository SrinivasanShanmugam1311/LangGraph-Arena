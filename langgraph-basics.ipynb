{
 "cells": [
  {
   "cell_type": "code",
   "execution_count": 3,
   "id": "148bbf07",
   "metadata": {},
   "outputs": [
    {
     "name": "stdout",
     "output_type": "stream",
     "text": [
      "➡️ Start Node\n",
      "➡️ Next Node, got: Hello from Start\n"
     ]
    },
    {
     "data": {
      "text/plain": [
       "{'message': 'Hello from Start'}"
      ]
     },
     "execution_count": 3,
     "metadata": {},
     "output_type": "execute_result"
    }
   ],
   "source": [
    "from typing import TypedDict\n",
    "from langgraph.graph import StateGraph, END\n",
    "from IPython.display import Image\n",
    "\n",
    "# --- State class ---\n",
    "class State(TypedDict):\n",
    "    message: str\n",
    "\n",
    "# --- Node functions ---\n",
    "def start_fn(state):\n",
    "    print(\"➡️ Start Node\")\n",
    "    state[\"message\"] = \"Hello from Start\"\n",
    "    return state\n",
    "\n",
    "def next_fn(state):\n",
    "    print(\"➡️ Next Node, got:\", state[\"message\"])\n",
    "    return state\n",
    "\n",
    "# --- Build graph ---\n",
    "builder = StateGraph(State)\n",
    "builder.add_node(\"start_node\", start_fn)\n",
    "builder.add_node(\"next_node\", next_fn)\n",
    "\n",
    "builder.set_entry_point(\"start_node\")\n",
    "builder.add_edge(\"start_node\", \"next_node\")\n",
    "builder.add_edge(\"next_node\", END)\n",
    "\n",
    "graph = builder.compile()\n",
    "\n",
    "# Run\n",
    "graph.invoke({\"message\": \"\"})\n",
    "\n",
    "# Show graph\n",
    "#graph_png = graph.get_graph().draw_mermaid_png()\n",
    "#display(Image(graph_png))\n",
    "\n"
   ]
  },
  {
   "cell_type": "code",
   "execution_count": 2,
   "id": "f96a6445-4052-4f9e-bbf6-f42b122317fd",
   "metadata": {},
   "outputs": [
    {
     "name": "stdout",
     "output_type": "stream",
     "text": [
      "Collecting langgraph\n",
      "  Obtaining dependency information for langgraph from https://files.pythonhosted.org/packages/67/06/f440922a58204dbfd10f7fdda0de0325529a159e9dc3d1038afe4b431a49/langgraph-0.6.7-py3-none-any.whl.metadata\n",
      "  Downloading langgraph-0.6.7-py3-none-any.whl.metadata (6.8 kB)\n",
      "Requirement already satisfied: langchain in c:\\users\\user\\anaconda3\\lib\\site-packages (0.3.26)\n",
      "Collecting langchain\n",
      "  Obtaining dependency information for langchain from https://files.pythonhosted.org/packages/f6/d5/4861816a95b2f6993f1360cfb605aacb015506ee2090433a71de9cca8477/langchain-0.3.27-py3-none-any.whl.metadata\n",
      "  Downloading langchain-0.3.27-py3-none-any.whl.metadata (7.8 kB)\n",
      "Requirement already satisfied: langchain-openai in c:\\users\\user\\anaconda3\\lib\\site-packages (0.3.27)\n",
      "Collecting langchain-openai\n",
      "  Obtaining dependency information for langchain-openai from https://files.pythonhosted.org/packages/67/31/af0486b7ad8a49f3c5c852ca2b3a7f6d8526cc71a405045dd959c36ec5db/langchain_openai-0.3.33-py3-none-any.whl.metadata\n",
      "  Downloading langchain_openai-0.3.33-py3-none-any.whl.metadata (2.4 kB)\n",
      "Requirement already satisfied: langchain-core>=0.1 in c:\\users\\user\\anaconda3\\lib\\site-packages (from langgraph) (0.3.66)\n",
      "Collecting langgraph-checkpoint<3.0.0,>=2.1.0 (from langgraph)\n",
      "  Obtaining dependency information for langgraph-checkpoint<3.0.0,>=2.1.0 from https://files.pythonhosted.org/packages/4c/dd/64686797b0927fb18b290044be12ae9d4df01670dce6bb2498d5ab65cb24/langgraph_checkpoint-2.1.1-py3-none-any.whl.metadata\n",
      "  Downloading langgraph_checkpoint-2.1.1-py3-none-any.whl.metadata (4.2 kB)\n",
      "Collecting langgraph-prebuilt<0.7.0,>=0.6.0 (from langgraph)\n",
      "  Obtaining dependency information for langgraph-prebuilt<0.7.0,>=0.6.0 from https://files.pythonhosted.org/packages/0a/7f/973b0d9729d9693d6e5b4bc5f3ae41138d194cb7b16b0ed230020beeb13a/langgraph_prebuilt-0.6.4-py3-none-any.whl.metadata\n",
      "  Downloading langgraph_prebuilt-0.6.4-py3-none-any.whl.metadata (4.5 kB)\n",
      "Collecting langgraph-sdk<0.3.0,>=0.2.2 (from langgraph)\n",
      "  Obtaining dependency information for langgraph-sdk<0.3.0,>=0.2.2 from https://files.pythonhosted.org/packages/66/05/b2d34e16638241e6f27a6946d28160d4b8b641383787646d41a3727e0896/langgraph_sdk-0.2.9-py3-none-any.whl.metadata\n",
      "  Downloading langgraph_sdk-0.2.9-py3-none-any.whl.metadata (1.5 kB)\n",
      "Requirement already satisfied: pydantic>=2.7.4 in c:\\users\\user\\anaconda3\\lib\\site-packages (from langgraph) (2.11.7)\n",
      "Collecting xxhash>=3.5.0 (from langgraph)\n",
      "  Obtaining dependency information for xxhash>=3.5.0 from https://files.pythonhosted.org/packages/52/1c/fa3b61c0cf03e1da4767213672efe186b1dfa4fc901a4a694fb184a513d1/xxhash-3.5.0-cp311-cp311-win_amd64.whl.metadata\n",
      "  Downloading xxhash-3.5.0-cp311-cp311-win_amd64.whl.metadata (13 kB)\n",
      "Collecting langchain-core>=0.1 (from langgraph)\n",
      "  Obtaining dependency information for langchain-core>=0.1 from https://files.pythonhosted.org/packages/77/b5/501c0ffcb09c734457ceaa86bc7b1dd37b6a261147bd653add03b838aacb/langchain_core-0.3.76-py3-none-any.whl.metadata\n",
      "  Downloading langchain_core-0.3.76-py3-none-any.whl.metadata (3.7 kB)\n",
      "Collecting langchain-text-splitters<1.0.0,>=0.3.9 (from langchain)\n",
      "  Obtaining dependency information for langchain-text-splitters<1.0.0,>=0.3.9 from https://files.pythonhosted.org/packages/58/0d/41a51b40d24ff0384ec4f7ab8dd3dcea8353c05c973836b5e289f1465d4f/langchain_text_splitters-0.3.11-py3-none-any.whl.metadata\n",
      "  Downloading langchain_text_splitters-0.3.11-py3-none-any.whl.metadata (1.8 kB)\n",
      "Requirement already satisfied: langsmith>=0.1.17 in c:\\users\\user\\anaconda3\\lib\\site-packages (from langchain) (0.4.4)\n",
      "Requirement already satisfied: SQLAlchemy<3,>=1.4 in c:\\users\\user\\anaconda3\\lib\\site-packages (from langchain) (1.4.39)\n",
      "Requirement already satisfied: requests<3,>=2 in c:\\users\\user\\anaconda3\\lib\\site-packages (from langchain) (2.32.4)\n",
      "Requirement already satisfied: PyYAML>=5.3 in c:\\users\\user\\anaconda3\\lib\\site-packages (from langchain) (6.0.1)\n",
      "Collecting openai<2.0.0,>=1.104.2 (from langchain-openai)\n",
      "  Obtaining dependency information for openai<2.0.0,>=1.104.2 from https://files.pythonhosted.org/packages/b8/d3/d65e318e8d3b5845afaa5960d8da779988b4cb9f4e1ca82e588fed9c6a9d/openai-1.109.0-py3-none-any.whl.metadata\n",
      "  Downloading openai-1.109.0-py3-none-any.whl.metadata (29 kB)\n",
      "Requirement already satisfied: tiktoken<1,>=0.7 in c:\\users\\user\\anaconda3\\lib\\site-packages (from langchain-openai) (0.9.0)\n",
      "Requirement already satisfied: tenacity!=8.4.0,<10.0.0,>=8.1.0 in c:\\users\\user\\anaconda3\\lib\\site-packages (from langchain-core>=0.1->langgraph) (8.5.0)\n",
      "Requirement already satisfied: jsonpatch<2.0,>=1.33 in c:\\users\\user\\anaconda3\\lib\\site-packages (from langchain-core>=0.1->langgraph) (1.33)\n",
      "Requirement already satisfied: typing-extensions>=4.7 in c:\\users\\user\\appdata\\roaming\\python\\python311\\site-packages (from langchain-core>=0.1->langgraph) (4.12.2)\n",
      "Requirement already satisfied: packaging>=23.2 in c:\\users\\user\\anaconda3\\lib\\site-packages (from langchain-core>=0.1->langgraph) (24.0)\n",
      "Collecting ormsgpack>=1.10.0 (from langgraph-checkpoint<3.0.0,>=2.1.0->langgraph)\n",
      "  Obtaining dependency information for ormsgpack>=1.10.0 from https://files.pythonhosted.org/packages/f7/87/073251cdb93d4c6241748568b3ad1b2a76281fb2002eed16a3a4043d61cf/ormsgpack-1.10.0-cp311-cp311-win_amd64.whl.metadata\n",
      "  Downloading ormsgpack-1.10.0-cp311-cp311-win_amd64.whl.metadata (44 kB)\n",
      "     ---------------------------------------- 0.0/44.7 kB ? eta -:--:--\n",
      "     ---------------------------------------- 44.7/44.7 kB 2.3 MB/s eta 0:00:00\n",
      "Requirement already satisfied: httpx>=0.25.2 in c:\\users\\user\\anaconda3\\lib\\site-packages (from langgraph-sdk<0.3.0,>=0.2.2->langgraph) (0.27.0)\n",
      "Requirement already satisfied: orjson>=3.10.1 in c:\\users\\user\\anaconda3\\lib\\site-packages (from langgraph-sdk<0.3.0,>=0.2.2->langgraph) (3.10.6)\n",
      "Requirement already satisfied: requests-toolbelt<2.0.0,>=1.0.0 in c:\\users\\user\\anaconda3\\lib\\site-packages (from langsmith>=0.1.17->langchain) (1.0.0)\n",
      "Requirement already satisfied: zstandard<0.24.0,>=0.23.0 in c:\\users\\user\\anaconda3\\lib\\site-packages (from langsmith>=0.1.17->langchain) (0.23.0)\n",
      "Requirement already satisfied: anyio<5,>=3.5.0 in c:\\users\\user\\anaconda3\\lib\\site-packages (from openai<2.0.0,>=1.104.2->langchain-openai) (3.5.0)\n",
      "Requirement already satisfied: distro<2,>=1.7.0 in c:\\users\\user\\anaconda3\\lib\\site-packages (from openai<2.0.0,>=1.104.2->langchain-openai) (1.9.0)\n",
      "Requirement already satisfied: jiter<1,>=0.4.0 in c:\\users\\user\\anaconda3\\lib\\site-packages (from openai<2.0.0,>=1.104.2->langchain-openai) (0.10.0)\n",
      "Requirement already satisfied: sniffio in c:\\users\\user\\anaconda3\\lib\\site-packages (from openai<2.0.0,>=1.104.2->langchain-openai) (1.2.0)\n",
      "Requirement already satisfied: tqdm>4 in c:\\users\\user\\anaconda3\\lib\\site-packages (from openai<2.0.0,>=1.104.2->langchain-openai) (4.65.0)\n",
      "Requirement already satisfied: annotated-types>=0.6.0 in c:\\users\\user\\anaconda3\\lib\\site-packages (from pydantic>=2.7.4->langgraph) (0.7.0)\n",
      "Requirement already satisfied: pydantic-core==2.33.2 in c:\\users\\user\\anaconda3\\lib\\site-packages (from pydantic>=2.7.4->langgraph) (2.33.2)\n",
      "Requirement already satisfied: typing-inspection>=0.4.0 in c:\\users\\user\\anaconda3\\lib\\site-packages (from pydantic>=2.7.4->langgraph) (0.4.1)\n",
      "Requirement already satisfied: charset_normalizer<4,>=2 in c:\\users\\user\\anaconda3\\lib\\site-packages (from requests<3,>=2->langchain) (2.0.4)\n",
      "Requirement already satisfied: idna<4,>=2.5 in c:\\users\\user\\anaconda3\\lib\\site-packages (from requests<3,>=2->langchain) (3.4)\n",
      "Requirement already satisfied: urllib3<3,>=1.21.1 in c:\\users\\user\\anaconda3\\lib\\site-packages (from requests<3,>=2->langchain) (2.5.0)\n",
      "Requirement already satisfied: certifi>=2017.4.17 in c:\\users\\user\\anaconda3\\lib\\site-packages (from requests<3,>=2->langchain) (2024.2.2)\n",
      "Requirement already satisfied: greenlet!=0.4.17 in c:\\users\\user\\anaconda3\\lib\\site-packages (from SQLAlchemy<3,>=1.4->langchain) (3.0.1)\n",
      "Requirement already satisfied: regex>=2022.1.18 in c:\\users\\user\\anaconda3\\lib\\site-packages (from tiktoken<1,>=0.7->langchain-openai) (2024.11.6)\n",
      "Requirement already satisfied: httpcore==1.* in c:\\users\\user\\anaconda3\\lib\\site-packages (from httpx>=0.25.2->langgraph-sdk<0.3.0,>=0.2.2->langgraph) (1.0.2)\n",
      "Requirement already satisfied: h11<0.15,>=0.13 in c:\\users\\user\\anaconda3\\lib\\site-packages (from httpcore==1.*->httpx>=0.25.2->langgraph-sdk<0.3.0,>=0.2.2->langgraph) (0.14.0)\n",
      "Requirement already satisfied: jsonpointer>=1.9 in c:\\users\\user\\anaconda3\\lib\\site-packages (from jsonpatch<2.0,>=1.33->langchain-core>=0.1->langgraph) (2.1)\n",
      "Requirement already satisfied: colorama in c:\\users\\user\\anaconda3\\lib\\site-packages (from tqdm>4->openai<2.0.0,>=1.104.2->langchain-openai) (0.4.6)\n",
      "Downloading langgraph-0.6.7-py3-none-any.whl (153 kB)\n",
      "   ---------------------------------------- 0.0/153.3 kB ? eta -:--:--\n",
      "   ------------------------ --------------- 92.2/153.3 kB 2.6 MB/s eta 0:00:01\n",
      "   ---------------------------------------- 153.3/153.3 kB 3.0 MB/s eta 0:00:00\n",
      "Downloading langchain-0.3.27-py3-none-any.whl (1.0 MB)\n",
      "   ---------------------------------------- 0.0/1.0 MB ? eta -:--:--\n",
      "   ------ --------------------------------- 0.2/1.0 MB 4.5 MB/s eta 0:00:01\n",
      "   ------------- -------------------------- 0.3/1.0 MB 4.3 MB/s eta 0:00:01\n",
      "   ---------------------- ----------------- 0.6/1.0 MB 4.4 MB/s eta 0:00:01\n",
      "   ----------------------------- ---------- 0.8/1.0 MB 4.8 MB/s eta 0:00:01\n",
      "   ---------------------------------------  1.0/1.0 MB 4.8 MB/s eta 0:00:01\n",
      "   ---------------------------------------- 1.0/1.0 MB 4.3 MB/s eta 0:00:00\n",
      "Downloading langchain_openai-0.3.33-py3-none-any.whl (74 kB)\n",
      "   ---------------------------------------- 0.0/75.0 kB ? eta -:--:--\n",
      "   ---------------------------------------- 75.0/75.0 kB 4.0 MB/s eta 0:00:00\n",
      "Downloading langchain_core-0.3.76-py3-none-any.whl (447 kB)\n",
      "   ---------------------------------------- 0.0/447.5 kB ? eta -:--:--\n",
      "   -------------------- ------------------- 225.3/447.5 kB 4.6 MB/s eta 0:00:01\n",
      "   ---------------------------------------  440.3/447.5 kB 5.5 MB/s eta 0:00:01\n",
      "   ---------------------------------------- 447.5/447.5 kB 4.7 MB/s eta 0:00:00\n",
      "Downloading langchain_text_splitters-0.3.11-py3-none-any.whl (33 kB)\n",
      "Downloading langgraph_checkpoint-2.1.1-py3-none-any.whl (43 kB)\n",
      "   ---------------------------------------- 0.0/43.9 kB ? eta -:--:--\n",
      "   ---------------------------------------- 43.9/43.9 kB 2.1 MB/s eta 0:00:00\n",
      "Downloading langgraph_prebuilt-0.6.4-py3-none-any.whl (28 kB)\n",
      "Downloading langgraph_sdk-0.2.9-py3-none-any.whl (56 kB)\n",
      "   ---------------------------------------- 0.0/56.8 kB ? eta -:--:--\n",
      "   ---------------------------------------- 56.8/56.8 kB ? eta 0:00:00\n",
      "Downloading openai-1.109.0-py3-none-any.whl (948 kB)\n",
      "   ---------------------------------------- 0.0/948.4 kB ? eta -:--:--\n",
      "   ----------- ---------------------------- 276.5/948.4 kB 8.6 MB/s eta 0:00:01\n",
      "   ---------------------- ----------------- 522.2/948.4 kB 5.4 MB/s eta 0:00:01\n",
      "   -------------------------------- ------- 778.2/948.4 kB 5.4 MB/s eta 0:00:01\n",
      "   ---------------------------------------  942.1/948.4 kB 5.4 MB/s eta 0:00:01\n",
      "   ---------------------------------------- 948.4/948.4 kB 5.0 MB/s eta 0:00:00\n",
      "Downloading xxhash-3.5.0-cp311-cp311-win_amd64.whl (30 kB)\n",
      "Downloading ormsgpack-1.10.0-cp311-cp311-win_amd64.whl (121 kB)\n",
      "   ---------------------------------------- 0.0/121.2 kB ? eta -:--:--\n",
      "   ---------------------------------------- 121.2/121.2 kB 3.6 MB/s eta 0:00:00\n",
      "Installing collected packages: xxhash, ormsgpack, openai, langgraph-sdk, langchain-core, langgraph-checkpoint, langchain-text-splitters, langchain-openai, langgraph-prebuilt, langchain, langgraph\n",
      "  Attempting uninstall: xxhash\n",
      "    Found existing installation: xxhash 2.0.2\n",
      "    Uninstalling xxhash-2.0.2:\n",
      "      Successfully uninstalled xxhash-2.0.2\n",
      "  Attempting uninstall: openai\n",
      "    Found existing installation: openai 1.93.0\n",
      "    Uninstalling openai-1.93.0:\n",
      "      Successfully uninstalled openai-1.93.0\n",
      "  Attempting uninstall: langchain-core\n",
      "    Found existing installation: langchain-core 0.3.66\n",
      "    Uninstalling langchain-core-0.3.66:\n",
      "      Successfully uninstalled langchain-core-0.3.66\n",
      "  Attempting uninstall: langchain-text-splitters\n",
      "    Found existing installation: langchain-text-splitters 0.3.8\n",
      "    Uninstalling langchain-text-splitters-0.3.8:\n",
      "      Successfully uninstalled langchain-text-splitters-0.3.8\n",
      "  Attempting uninstall: langchain-openai\n",
      "    Found existing installation: langchain-openai 0.3.27\n",
      "    Uninstalling langchain-openai-0.3.27:\n",
      "      Successfully uninstalled langchain-openai-0.3.27\n",
      "  Attempting uninstall: langchain\n",
      "    Found existing installation: langchain 0.3.26\n",
      "    Uninstalling langchain-0.3.26:\n",
      "      Successfully uninstalled langchain-0.3.26\n",
      "Successfully installed langchain-0.3.27 langchain-core-0.3.76 langchain-openai-0.3.33 langchain-text-splitters-0.3.11 langgraph-0.6.7 langgraph-checkpoint-2.1.1 langgraph-prebuilt-0.6.4 langgraph-sdk-0.2.9 openai-1.109.0 ormsgpack-1.10.0 xxhash-3.5.0\n",
      "Note: you may need to restart the kernel to use updated packages.\n"
     ]
    },
    {
     "name": "stderr",
     "output_type": "stream",
     "text": [
      "ERROR: pip's dependency resolver does not currently take into account all the packages that are installed. This behaviour is the source of the following dependency conflicts.\n",
      "langchain-chroma 0.1.2 requires chromadb<0.6.0,>=0.4.0, but you have chromadb 1.0.13 which is incompatible.\n",
      "langchain-chroma 0.1.2 requires langchain-core<0.3,>=0.1.40, but you have langchain-core 0.3.76 which is incompatible.\n",
      "langchain-chroma 0.1.2 requires numpy<2,>=1; python_version < \"3.12\", but you have numpy 2.3.1 which is incompatible.\n"
     ]
    }
   ],
   "source": [
    "%pip install -U langgraph langchain langchain-openai"
   ]
  },
  {
   "cell_type": "code",
   "execution_count": 4,
   "id": "0d9c06a6",
   "metadata": {
    "scrolled": true
   },
   "outputs": [
    {
     "name": "stdout",
     "output_type": "stream",
     "text": [
      "Checking number: 6\n",
      " Even number\n"
     ]
    },
    {
     "data": {
      "text/plain": [
       "{'num': 6}"
      ]
     },
     "execution_count": 4,
     "metadata": {},
     "output_type": "execute_result"
    }
   ],
   "source": [
    "from typing import TypedDict\n",
    "from langgraph.graph import StateGraph, END\n",
    "\n",
    "class State(TypedDict):\n",
    "    num: int\n",
    "\n",
    "def check_fn(state):\n",
    "    print(\"Checking number:\", state[\"num\"])\n",
    "    return state\n",
    "\n",
    "def even_fn(state):\n",
    "    print(\" Even number\")\n",
    "    return state\n",
    "\n",
    "def odd_fn(state):\n",
    "    print(\" Odd number\")\n",
    "    return state\n",
    "\n",
    "def route_decider(state):\n",
    "    return \"even_label\" if state[\"num\"] % 2 == 0 else \"odd_label\"\n",
    "\n",
    "builder = StateGraph(State)\n",
    "builder.add_node(\"check_node\", check_fn)\n",
    "builder.add_node(\"even_node\", even_fn)\n",
    "builder.add_node(\"odd_node\", odd_fn)\n",
    "\n",
    "builder.set_entry_point(\"check_node\")\n",
    "builder.add_conditional_edges(\"check_node\", route_decider, {\"even_label\": \"even_node\", \"odd_label\": \"odd_node\"})\n",
    "builder.add_edge(\"even_node\", END)\n",
    "builder.add_edge(\"odd_node\", END)\n",
    "\n",
    "graph = builder.compile()\n",
    "graph.invoke({\"num\": 6})\n",
    "\n"
   ]
  },
  {
   "cell_type": "code",
   "execution_count": 7,
   "id": "bb554a81",
   "metadata": {},
   "outputs": [
    {
     "name": "stdout",
     "output_type": "stream",
     "text": [
      "count = 1\n",
      "count = 2\n",
      "count = 3\n",
      "count = 4\n",
      "count = 5\n"
     ]
    },
    {
     "data": {
      "text/plain": [
       "{'count': 5}"
      ]
     },
     "execution_count": 7,
     "metadata": {},
     "output_type": "execute_result"
    }
   ],
   "source": [
    "from typing import TypedDict\n",
    "from langgraph.graph import StateGraph, END\n",
    "\n",
    "class State(TypedDict):\n",
    "    count: int\n",
    "\n",
    "def increment(state):\n",
    "    state[\"count\"] += 1\n",
    "    print(\"count =\", state[\"count\"])\n",
    "    return state\n",
    "\n",
    "def stop_condition(state: State) -> str:\n",
    "    return \"continue_again\" if state[\"count\"] < 5 else \"complete_done\"\n",
    "\n",
    "builder = StateGraph(State)\n",
    "builder.add_node(\"increment_node\", increment)\n",
    "\n",
    "builder.set_entry_point(\"increment_node\")\n",
    "builder.add_conditional_edges(\n",
    "    \"increment_node\",\n",
    "    stop_condition,\n",
    "    {\"continue_again\": \"increment_node\", \"complete_done\": END}\n",
    ")\n",
    "\n",
    "graph = builder.compile()\n",
    "graph.invoke({\"count\": 0})\n",
    "\n",
    "\n"
   ]
  },
  {
   "cell_type": "code",
   "execution_count": 5,
   "id": "070ae022",
   "metadata": {},
   "outputs": [
    {
     "name": "stdout",
     "output_type": "stream",
     "text": [
      "Step 1: Add 2\n",
      "Step 2: Multiply by 3\n",
      "Step 3: Subtract 5\n"
     ]
    },
    {
     "data": {
      "text/plain": [
       "{'x': 13}"
      ]
     },
     "execution_count": 5,
     "metadata": {},
     "output_type": "execute_result"
    }
   ],
   "source": [
    "from langgraph.graph import StateGraph, END\n",
    "\n",
    "def step1(state):\n",
    "    print(\"Step 1: Add 2\")\n",
    "    state[\"x\"] += 2\n",
    "    return state\n",
    "\n",
    "def step2(state):\n",
    "    print(\"Step 2: Multiply by 3\")\n",
    "    state[\"x\"] *= 3\n",
    "    return state\n",
    "\n",
    "def step3(state):\n",
    "    print(\"Step 3: Subtract 5\")\n",
    "    state[\"x\"] -= 5\n",
    "    return state\n",
    "\n",
    "builder = StateGraph(dict)\n",
    "builder.add_node(\"s1_node\", step1)\n",
    "builder.add_node(\"s2_node\", step2)\n",
    "builder.add_node(\"s3_node\", step3)\n",
    "\n",
    "builder.set_entry_point(\"s1_node\")\n",
    "builder.add_edge(\"s1_node\", \"s2_node\")\n",
    "builder.add_edge(\"s2_node\", \"s3_node\")\n",
    "builder.add_edge(\"s3_node\", END)\n",
    "\n",
    "graph = builder.compile()\n",
    "graph.invoke({\"x\": 4})\n"
   ]
  },
  {
   "cell_type": "code",
   "execution_count": null,
   "id": "58bb9da2-1f50-479f-ad1e-fa85a078390d",
   "metadata": {},
   "outputs": [],
   "source": []
  }
 ],
 "metadata": {
  "kernelspec": {
   "display_name": "Python 3 (ipykernel)",
   "language": "python",
   "name": "python3"
  },
  "language_info": {
   "codemirror_mode": {
    "name": "ipython",
    "version": 3
   },
   "file_extension": ".py",
   "mimetype": "text/x-python",
   "name": "python",
   "nbconvert_exporter": "python",
   "pygments_lexer": "ipython3",
   "version": "3.11.5"
  },
  "vincent": {
   "sessionId": "e8389b9354842f45df4386cc_2025-09-24T01-39-30-919Z"
  }
 },
 "nbformat": 4,
 "nbformat_minor": 5
}
